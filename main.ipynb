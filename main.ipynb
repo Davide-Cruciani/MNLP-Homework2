{
 "cells": [
  {
   "cell_type": "markdown",
   "metadata": {},
   "source": [
    "# MNLP Homework 2 - OCRed text cleaning"
   ]
  },
  {
   "cell_type": "code",
   "execution_count": null,
   "metadata": {},
   "outputs": [],
   "source": [
    "import matplotlib.pyplot as plt\n",
    "import transformers\n",
    "import pandas as pd\n",
    "import numpy as np\n",
    "import torch\n",
    "import json\n",
    "import sys\n",
    "import os\n",
    "\n",
    "from dotenv import load_dotenv\n",
    "from huggingface_hub import login\n",
    "\n",
    "# import torch\n",
    "# import datasets\n",
    "# import huggingface_hub"
   ]
  },
  {
   "cell_type": "code",
   "execution_count": null,
   "metadata": {},
   "outputs": [],
   "source": [
    "cleaned_fn = \"cleaned.json\"\n",
    "ocred_fn = \"original_ocr.json\"\n",
    "\n",
    "print(os.getcwd())\n",
    "\n",
    "if '.env' in os.listdir(os.getcwd()):\n",
    "    load_dotenv()\n",
    "    path = os.environ['DATA_PATH']\n",
    "    login(token=os.environ['HF_TOKEN'])    \n",
    "else:\n",
    "    pass\n",
    "    #path = \"C:\\Users\\FEDERICO\\Desktop\\MNLP-Homework2\\data\\ita\"\n",
    "    \n"
   ]
  },
  {
   "cell_type": "code",
   "execution_count": null,
   "metadata": {},
   "outputs": [],
   "source": [
    "datasetRaw = {}\n",
    "\n",
    "for i in [ocred_fn, cleaned_fn]:\n",
    "    if i not in os.listdir(path):\n",
    "        print(f\"ERROR 404 ! File {i} not Found...\")\n",
    "\n",
    "    file_path = os.path.join(path, i)\n",
    "    with open(file_path, 'r') as f:\n",
    "        datasetRaw[i.split('.')[0]] = json.load(f)\n",
    "        f.close()"
   ]
  },
  {
   "cell_type": "code",
   "execution_count": null,
   "metadata": {},
   "outputs": [],
   "source": [
    "print(datasetRaw['original_ocr'].keys())\n",
    "print(len(datasetRaw['original_ocr'].keys()))"
   ]
  },
  {
   "cell_type": "code",
   "execution_count": null,
   "metadata": {},
   "outputs": [],
   "source": [
    "# print(datasetRaw['original_ocr']['1'])\n",
    "#print(datasetRaw['cleaned']['1'])"
   ]
  },
  {
   "cell_type": "markdown",
   "metadata": {},
   "source": [
    "# Models import\n"
   ]
  },
  {
   "cell_type": "markdown",
   "metadata": {},
   "source": [
    "### Minerva"
   ]
  },
  {
   "cell_type": "code",
   "execution_count": null,
   "metadata": {},
   "outputs": [],
   "source": [
    "minervaId = \"sapienzanlp/Minerva-1B-base-v1.0\"\n",
    "\n",
    "minervaPipeline = transformers.pipeline(\n",
    "    \"text-generation\",\n",
    "    model=minervaId,\n",
    "    model_kwargs={\"torch_dtype\": torch.bfloat16},\n",
    "    device_map=\"auto\",\n",
    "    trust_remote_code=True\n",
    ")"
   ]
  }
 ],
 "metadata": {
  "kernelspec": {
   "display_name": "Python 3",
   "language": "python",
   "name": "python3"
  },
  "language_info": {
   "codemirror_mode": {
    "name": "ipython",
    "version": 3
   },
   "file_extension": ".py",
   "mimetype": "text/x-python",
   "name": "python",
   "nbconvert_exporter": "python",
   "pygments_lexer": "ipython3",
   "version": "3.12.6"
  }
 },
 "nbformat": 4,
 "nbformat_minor": 2
}
