{
 "cells": [
  {
   "cell_type": "code",
   "execution_count": 2,
   "id": "e13ad91e",
   "metadata": {},
   "outputs": [],
   "source": [
    "import matplotlib.pyplot as plt\n",
    "import transformers\n",
    "import pandas as pd\n",
    "import numpy as np\n",
    "import torch\n",
    "import json\n",
    "import sys\n",
    "import os\n",
    "\n",
    "from dotenv import load_dotenv\n",
    "from huggingface_hub import login\n"
   ]
  },
  {
   "cell_type": "code",
   "execution_count": 3,
   "id": "186320ad",
   "metadata": {},
   "outputs": [
    {
     "name": "stderr",
     "output_type": "stream",
     "text": [
      "Note: Environment variable`HF_TOKEN` is set and is the current active token independently from the token you've just configured.\n"
     ]
    }
   ],
   "source": [
    "load_dotenv()\n",
    "path = os.environ['DATA_PATH']\n",
    "os.environ[\"ACCELERATE_USE_TORCH_DEVICE\"] = \"true\"\n",
    "login(token=os.environ['HF_TOKEN'])\n",
    "cleaned_fn = \"cleaned.json\"\n",
    "ocred_fn = \"original_ocr.json\""
   ]
  },
  {
   "cell_type": "code",
   "execution_count": 4,
   "id": "28065002",
   "metadata": {},
   "outputs": [
    {
     "name": "stdout",
     "output_type": "stream",
     "text": [
      "NVIDIA GeForce RTX 4060 Laptop GPU\n",
      "Supports float16: True\n",
      "Supports bfloat16: True\n"
     ]
    }
   ],
   "source": [
    "device = torch.device(\"cuda\")\n",
    "print(torch.cuda.get_device_name(0))\n",
    "print(\"Supports float16:\", torch.cuda.is_available())\n",
    "print(\"Supports bfloat16:\", torch.cuda.is_bf16_supported())"
   ]
  },
  {
   "cell_type": "code",
   "execution_count": 5,
   "id": "faf0d1a9",
   "metadata": {},
   "outputs": [
    {
     "data": {
      "application/vnd.jupyter.widget-view+json": {
       "model_id": "132d7c427ef249ebbc34cdd99e7a73ba",
       "version_major": 2,
       "version_minor": 0
      },
      "text/plain": [
       "config.json:   0%|          | 0.00/593 [00:00<?, ?B/s]"
      ]
     },
     "metadata": {},
     "output_type": "display_data"
    },
    {
     "name": "stderr",
     "output_type": "stream",
     "text": [
      "c:\\Users\\david\\AppData\\Local\\Programs\\Python\\Python312\\Lib\\site-packages\\huggingface_hub\\file_download.py:144: UserWarning: `huggingface_hub` cache-system uses symlinks by default to efficiently store duplicated files but your machine does not support them in C:\\Users\\david\\Desktop\\Università\\MNLP\\Homework2\\cache\\hub\\models--sapienzanlp--Minerva-1B-base-v1.0. Caching files will still work but in a degraded version that might require more space on your disk. This warning can be disabled by setting the `HF_HUB_DISABLE_SYMLINKS_WARNING` environment variable. For more details, see https://huggingface.co/docs/huggingface_hub/how-to-cache#limitations.\n",
      "To support symlinks on Windows, you either need to activate Developer Mode or to run Python as an administrator. In order to activate developer mode, see this article: https://docs.microsoft.com/en-us/windows/apps/get-started/enable-your-device-for-development\n",
      "  warnings.warn(message)\n"
     ]
    },
    {
     "name": "stdout",
     "output_type": "stream",
     "text": [
      "WARNING:tensorflow:From c:\\Users\\david\\AppData\\Local\\Programs\\Python\\Python312\\Lib\\site-packages\\tf_keras\\src\\losses.py:2976: The name tf.losses.sparse_softmax_cross_entropy is deprecated. Please use tf.compat.v1.losses.sparse_softmax_cross_entropy instead.\n",
      "\n"
     ]
    },
    {
     "data": {
      "application/vnd.jupyter.widget-view+json": {
       "model_id": "6df790d5a4e14947ac8978f087cfdc6b",
       "version_major": 2,
       "version_minor": 0
      },
      "text/plain": [
       "model.safetensors:   0%|          | 0.00/2.01G [00:00<?, ?B/s]"
      ]
     },
     "metadata": {},
     "output_type": "display_data"
    },
    {
     "data": {
      "application/vnd.jupyter.widget-view+json": {
       "model_id": "b66372bf655c4242af892cda959112cf",
       "version_major": 2,
       "version_minor": 0
      },
      "text/plain": [
       "generation_config.json:   0%|          | 0.00/111 [00:00<?, ?B/s]"
      ]
     },
     "metadata": {},
     "output_type": "display_data"
    },
    {
     "data": {
      "application/vnd.jupyter.widget-view+json": {
       "model_id": "573f39384d42406f9dad5f3fa79235b3",
       "version_major": 2,
       "version_minor": 0
      },
      "text/plain": [
       "tokenizer_config.json:   0%|          | 0.00/904 [00:00<?, ?B/s]"
      ]
     },
     "metadata": {},
     "output_type": "display_data"
    },
    {
     "data": {
      "application/vnd.jupyter.widget-view+json": {
       "model_id": "5171686f61ef4ff6ba870dd336afc3a1",
       "version_major": 2,
       "version_minor": 0
      },
      "text/plain": [
       "tokenizer.model:   0%|          | 0.00/795k [00:00<?, ?B/s]"
      ]
     },
     "metadata": {},
     "output_type": "display_data"
    },
    {
     "data": {
      "application/vnd.jupyter.widget-view+json": {
       "model_id": "8f16714eb49446c4a1766ddd420c8d29",
       "version_major": 2,
       "version_minor": 0
      },
      "text/plain": [
       "tokenizer.json:   0%|          | 0.00/2.12M [00:00<?, ?B/s]"
      ]
     },
     "metadata": {},
     "output_type": "display_data"
    },
    {
     "data": {
      "application/vnd.jupyter.widget-view+json": {
       "model_id": "a538adda1c484073b2f277dcf0cc21d5",
       "version_major": 2,
       "version_minor": 0
      },
      "text/plain": [
       "special_tokens_map.json:   0%|          | 0.00/414 [00:00<?, ?B/s]"
      ]
     },
     "metadata": {},
     "output_type": "display_data"
    },
    {
     "name": "stderr",
     "output_type": "stream",
     "text": [
      "Device set to use cuda:0\n"
     ]
    }
   ],
   "source": [
    "minervaId = \"sapienzanlp/Minerva-1B-base-v1.0\"\n",
    "\n",
    "minervaPipeline = transformers.pipeline(\n",
    "    \"text-generation\",\n",
    "    model=minervaId,\n",
    "    model_kwargs={\"torch_dtype\": torch.bfloat16},\n",
    "    device_map=\"auto\",\n",
    "    trust_remote_code=True\n",
    ")"
   ]
  },
  {
   "cell_type": "code",
   "execution_count": 14,
   "id": "93b50729",
   "metadata": {},
   "outputs": [
    {
     "name": "stderr",
     "output_type": "stream",
     "text": [
      "Setting `pad_token_id` to `eos_token_id`:2 for open-end generation.\n"
     ]
    }
   ],
   "source": [
    "inputSentence = 'Rome is located in '\n",
    "\n",
    "outputSentence = minervaPipeline(inputSentence, max_new_tokens=512)"
   ]
  },
  {
   "cell_type": "code",
   "execution_count": null,
   "id": "b9022fad",
   "metadata": {},
   "outputs": [
    {
     "name": "stdout",
     "output_type": "stream",
     "text": [
      "{'generated_text': 'Rome is located in 14th district of Rome, it is the capital of Italy. Rome is the main city of Italy. There are several ancient Roman ruins, but the most interesting ruins are the ancient Roman aqueduct, the famous Colosseum, and the Vatican City.\\nRead more\\nBasilica di San Pietro in Vaticano\\nSituated in the Vatican City, this beautiful basilica is one of the most visited attractions in the world. It has a history going back as far as the second century BC. The church was built in the 16th century and is the oldest church in Rome.\\nRead more\\nPalazzo di Montecitorio\\nThe famous Palazzo di Montecitorio, is a great palace in Rome. It is one of the most important buildings of the European Parliament. It was built in 1797, and is the oldest building in Rome. It is considered to be a very important symbol of the Italian Republic.\\nRead more\\nPiazza del Plebiscito\\nThe Piazza del Plebiscito is the most prominent square in the city of Rome. It is one of the most important squares in the city of Rome. It is the site of many important events in the history of Italy.\\nRead more\\nColosseo\\nThe Colosseo is the largest ancient Roman amphitheater in the world. It is located in the heart of Rome, and is the second largest amphitheater in the world. The Colosseum is a huge amphitheater built in the 8th century. It is one of the most famous structures in the world.\\nRead more\\nCattedrale di Santa Maria Maggiore\\nThe Catholic Basilica of Santa Maria Maggiore is a basilica located on the site of the former basilica of Santa Maria Maggiore. It is the oldest church in Rome and has been used as a church for over 4000 years.\\nRead more\\nVatican City\\nThe Vatican City is one of the most important cities of the Roman Empire. It was founded by Emperor Diocletian in 331. It is one of the most important monuments of the Roman Empire.\\nRead more\\nAula Nascente\\nThe Aula Nascente is a great place to see the city of Rome. It is a beautiful place to visit. It is a place where the ancient buildings of the city of Rome are located and is a great place to see the city of'}\n"
     ]
    }
   ],
   "source": [
    "print(outputSentence[0]['generated_text'])"
   ]
  },
  {
   "cell_type": "code",
   "execution_count": 7,
   "id": "46c81dba",
   "metadata": {},
   "outputs": [],
   "source": [
    "datasetRaw = {}\n",
    "\n",
    "for i in [ocred_fn, cleaned_fn]:\n",
    "    if i not in os.listdir(path):\n",
    "        print(f\"ERROR 404 ! File {i} not Found...\")\n",
    "\n",
    "    file_path = os.path.join(path, i)\n",
    "    with open(file_path, 'r') as f:\n",
    "        datasetRaw[i.split('.')[0]] = json.load(f)\n",
    "        f.close()"
   ]
  },
  {
   "cell_type": "code",
   "execution_count": 21,
   "id": "1a3ed24f",
   "metadata": {},
   "outputs": [
    {
     "name": "stdout",
     "output_type": "stream",
     "text": [
      "I. \n",
      "Como  andò  che  Maestro  Ciliegia,  Megnamc \n",
      "trovò  un  pezzo  di  legno  che  piangeva  e  rideva  come  un  bambino. \n",
      "—  C'era  una  volta.... \n",
      "—  Un  re!  -diranno  subito  i  miei  piccoli  lettori. \n",
      "—  Ko,  ragazzi,  avete  sbagliato.  C'era  una  volta \n",
      "un  pezzo  di  legno. \n",
      "Kon  era  un  legno  di  lusso,  ma  un  semplice \n",
      "pezzo  da  catasta,  di  quelli  che  d' inverno  si  met- \n",
      "tono nelle  stufe  e  nei  caminetti  per  accendere \n",
      "il  fuoco  e  per  riscaldare  le  stanze. \n",
      "\n",
      "Non  so  come  andasse,  ma  il  fatto  gli  è  che  un \n",
      "bel  giorno' questo  pezzo  di  legno  capitò  nella  bot- \n",
      "tega di  un  vecchio  falegname,  il  quale  aveva \n",
      "nome  mastr' Antonio,  se  non  che  tutti  lo  chia- \n",
      "mavano maestro  Ciliegia,  per  via  della  punta  del \n",
      "\n",
      "sentì  nna  vocina  sottile  sottile. \n",
      "\n",
      "SUO  naso,  che  era  sempre  lustra  e  paonazza,  come \n",
      "una  ciliegia  matura. \n",
      "Appena  maestro  Ciliegia  ebbe  visto  quel  pezzo \n",
      "di  legno,  si  rallegrò  tutto;  e  dandosi  una  fregatina \n",
      "di  mani  per  la  contentezza,  borbottò  a  mezza  voce: \n",
      "—  Questo  legno  è  capitato  a  tempo;  voglio \n",
      "servirmene  per  fare  una  gamba  di  tavolino.  — \n",
      "\n",
      "Detto  fatto,  prese  subito  l'ascia  arrotata  per \n",
      "cominciare  a  levargli  la  scorza  e  a  digrossarlo; \n",
      "ma  quando  fu  lì  per  lasciare  andare  la  prima \n",
      "asciata,  rimase  col  braccio  sospeso  in  aria,  per- \n",
      "chè sentì  una  vocina  sottile  sottile,  che  disse \n",
      "raccomandandosi: \n",
      "—  Non  mi  picchiar  tanto  forte!  — \n",
      "Figuratevi  come  rimase  quel  buon  vecchio  di \n",
      "maestro  Ciliegia! \n",
      "Girò  gli  occhi  smarriti  intorno  alla  stanza  per \n",
      "vedere  di  dove  mai  poteva  essere  uscita  quella  vo- \n",
      "cina, e  non  vide  nessuno  !  Guardò  sotto  il  banco, \n",
      "e  nessuno  :  guardò  dentro  un  armadio  che  stava \n",
      "sempre  chiuso,  e  nessuno;  guardò  nel  corbèllo \n",
      "dei  trucioli  e  della  segatura,  e  nessuno;  aprì  l'uscio \n",
      "di  bottega  per  dare  un'occhiata  anche  sulla  strada, \n",
      "e  nessuno.  O  dunque?... \n",
      "—  Ho  capito;  —  disse  allora  ridendo  e  gTat- \n",
      "tandosi  la  parrucca  —  si  vede  che  quella  vocina \n",
      "me  la  son  figurata  io.  Eimettiamoci  a  lavo- \n",
      "rare. — \n",
      "E  ripresa  l' ascia  in  mano,  tirò  giù  un  solennis- \n",
      "simo  colpo  sul  pezzo  di  legno. \n",
      "—  Ohi!  tu  m'hai  fatto  male!  —  gridò  ramma- \n",
      "ricandosi la  solita  vocina. \n",
      "Questa  volta  maestro  Ciliegia  restò  di  stucco, \n",
      "cogli  occhi  fuori  del  capo  per  la  paura,  colla  bocca \n",
      "\n",
      "spalancati  e  colla  lingna  giù  ciondoloni  fino  al \n",
      "mento,  come  nn  mascherone  da  fontana. \n",
      "Appena  riebbe  l'uso  della  parola,  cominciò  a \n",
      "dire  tremando  e  balbettando  dallo  spavento: \n",
      "—  Ma  di  dove  sarà  uscita  questa  vocina  che \n",
      "ha  detto  ohi  ?...  Eppure  qui  non  e'  è  anima  viva. \n",
      "Ohe  sia  per  caso  questo  pezzo  di  legno  che  abbia \n",
      "imparato  a  piangere  e  a  lamentarsi  come  un  bam- \n",
      "bino? Io  non  lo  posso  credere.  Questo  legno  eccolo \n",
      "qui;  è  un  pezzo  di  legno  da  caminetto,  come  tutti \n",
      "gli  altri,  e  a  buttarlo  sul  fuoco,  c'è  da  far  bollire \n",
      "una  pentola  di  fagioli....  O  dunque?  Ohe  ci  sia  na- \n",
      "scosto dentro  qualcuno!  Se  c'è  nascosto  qualcuno, \n",
      "tanto  peggio  per  lui.  Ora  l'accomodo  io!  — \n",
      "E  così  dicendo,  agguantò  con  tutt'  e  due  le \n",
      "mani  quel  povero  pezzo  di  legno,  e  si  pose  a \n",
      "sbatacchiarlo  senza  carità  contro  le  pareti  della \n",
      "stanza. \n",
      "Poi  si  messe  in  ascolto,  per  sentire  se  c'era \n",
      "qualche  vocina  che  si  lamentasse.  Aspettò  due \n",
      "minuti,  e  nulla;  cinque  minuti,  e  nulla;  dieci  mi- \n",
      "nuti, e  nulla! \n",
      "— -  Ho  capito  —  disse  allora  sforzandosi  di  ri- \n",
      "dere e  arruffandosi  la  parrucca — si  vede  che  quella \n",
      "vocina  che  ha  detto  olii,  me  la  son  figurata  io! \n",
      "Eimettiamoci  a  lavorare.  — \n",
      "E  perchè  gli  era  entrato  addosso  una  gran \n",
      "\n",
      "\n",
      "paura,  si  provò  a  canterellare  per  farsi  un  po'  di \n",
      "coraggio. \n",
      "Intanto,  i^osata  da  una  parte  l'ascia,  prese  in \n",
      "mano  la  pialla,  per  piallare  e  tirare  a  pulimento \n",
      "il  pezzo  di  legno  ;  ma  nel  mentre  che  lo  piallava \n",
      "in  su  e  in  giù,  sentì  la  solita  vocina  che  gli  disse \n",
      "ridendo  : \n",
      "—  Smetti!  tu  mi  fai  il  pizzicorino  sul  corpo!  — \n",
      "Questa  volta  il  povero  maestro  Ciliegia  cadde \n",
      "giù  come  fulminato.  Quando  riaprì  gli  occhi,  si \n",
      "trovò  seduto  per  terra. \n",
      "Il  suo  viso  pareva  trasfigurito,  e  perfino  la  punta \n",
      "del  naso,  di  paonazza  come  era  quasi  sempre,  gli \n",
      "era  diventata  turchina  dalla  gran  x>ai^i'?^' \n",
      "\n",
      "pyyyyy^y^'^wggfy; \n",
      "\n",
      "ti;;::;i;r\n"
     ]
    }
   ],
   "source": [
    "sample = datasetRaw['original_ocr']['1']\n",
    "questionText = f\"Questo paragrafo, contentuto tra i due simboli '<666>', è dannegiato, ricostruiscilo: <666>{sample}<666>\"\n",
    "print(sample)"
   ]
  },
  {
   "cell_type": "code",
   "execution_count": null,
   "id": "ec001d67",
   "metadata": {},
   "outputs": [
    {
     "name": "stdout",
     "output_type": "stream",
     "text": [
      "Questo paragrafo, contentuto tra i due simboli '<666>', è dannegiato, ricostruiscilo: <666>I. \n",
      "Como  andò  che  Maestro  Ciliegia,  Megnamc \n",
      "trovò  un  pezzo  di  legno  che  piangeva  e  rideva  come  un  bambino. \n",
      "—  C'era  una  volta.... \n",
      "—  Un  re!  -diranno  subito  i  miei  piccoli  lettori. \n",
      "—  Ko,  ragazzi,  avete  sbagliato.  C'era  una  volta \n",
      "un  pezzo  di  legno. \n",
      "Kon  era  un  legno  di  lusso,  ma  un  semplice \n",
      "pezzo  da  catasta,  di  quelli  che  d' inverno  si  met- \n",
      "tono nelle  stufe  e  nei  caminetti  per  accendere \n",
      "il  fuoco  e  per  riscaldare  le  stanze. \n",
      "\n",
      "Non  so  come  andasse,  ma  il  fatto  gli  è  che  un \n",
      "bel  giorno' questo  pezzo  di  legno  capitò  nella  bot- \n",
      "tega di  un  vecchio  falegname,  il  quale  aveva \n",
      "nome  mastr' Antonio,  se  non  che  tutti  lo  chia- \n",
      "mavano maestro  Ciliegia,  per  via  della  punta  del \n",
      "\n",
      "sentì  nna  vocina  sottile  sottile. \n",
      "\n",
      "SUO  naso,  che  era  sempre  lustra  e  paonazza,  come \n",
      "una  ciliegia  matura. \n",
      "Appena  maestro  Ciliegia  ebbe  visto  quel  pezzo \n",
      "di  legno,  si  rallegrò  tutto;  e  dandosi  una  fregatina \n",
      "di  mani  per  la  contentezza,  borbottò  a  mezza  voce: \n",
      "—  Questo  legno  è  capitato  a  tempo;  voglio \n",
      "servirmene  per  fare  una  gamba  di  tavolino.  — \n",
      "\n",
      "Detto  fatto,  prese  subito  l'ascia  arrotata  per \n",
      "cominciare  a  levargli  la  scorza  e  a  digrossarlo; \n",
      "ma  quando  fu  lì  per  lasciare  andare  la  prima \n",
      "asciata,  rimase  col  braccio  sospeso  in  aria,  per- \n",
      "chè sentì  una  vocina  sottile  sottile,  che  disse \n",
      "raccomandandosi: \n",
      "—  Non  mi  picchiar  tanto  forte!  — \n",
      "Figuratevi  come  rimase  quel  buon  vecchio  di \n",
      "maestro  Ciliegia! \n",
      "Girò  gli  occhi  smarriti  intorno  alla  stanza  per \n",
      "vedere  di  dove  mai  poteva  essere  uscita  quella  vo- \n",
      "cina, e  non  vide  nessuno  !  Guardò  sotto  il  banco, \n",
      "e  nessuno  :  guardò  dentro  un  armadio  che  stava \n",
      "sempre  chiuso,  e  nessuno;  guardò  nel  corbèllo \n",
      "dei  trucioli  e  della  segatura,  e  nessuno;  aprì  l'uscio \n",
      "di  bottega  per  dare  un'occhiata  anche  sulla  strada, \n",
      "e  nessuno.  O  dunque?... \n",
      "—  Ho  capito;  —  disse  allora  ridendo  e  gTat- \n",
      "tandosi  la  parrucca  —  si  vede  che  quella  vocina \n",
      "me  la  son  figurata  io.  Eimettiamoci  a  lavo- \n",
      "rare. — \n",
      "E  ripresa  l' ascia  in  mano,  tirò  giù  un  solennis- \n",
      "simo  colpo  sul  pezzo  di  legno. \n",
      "—  Ohi!  tu  m'hai  fatto  male!  —  gridò  ramma- \n",
      "ricandosi la  solita  vocina. \n",
      "Questa  volta  maestro  Ciliegia  restò  di  stucco, \n",
      "cogli  occhi  fuori  del  capo  per  la  paura,  colla  bocca \n",
      "\n",
      "spalancati  e  colla  lingna  giù  ciondoloni  fino  al \n",
      "mento,  come  nn  mascherone  da  fontana. \n",
      "Appena  riebbe  l'uso  della  parola,  cominciò  a \n",
      "dire  tremando  e  balbettando  dallo  spavento: \n",
      "—  Ma  di  dove  sarà  uscita  questa  vocina  che \n",
      "ha  detto  ohi  ?...  Eppure  qui  non  e'  è  anima  viva. \n",
      "Ohe  sia  per  caso  questo  pezzo  di  legno  che  abbia \n",
      "imparato  a  piangere  e  a  lamentarsi  come  un  bam- \n",
      "bino? Io  non  lo  posso  credere.  Questo  legno  eccolo \n",
      "qui;  è  un  pezzo  di  legno  da  caminetto,  come  tutti \n",
      "gli  altri,  e  a  buttarlo  sul  fuoco,  c'è  da  far  bollire \n",
      "una  pentola  di  fagioli....  O  dunque?  Ohe  ci  sia  na- \n",
      "scosto dentro  qualcuno!  Se  c'è  nascosto  qualcuno, \n",
      "tanto  peggio  per  lui.  Ora  l'accomodo  io!  — \n",
      "E  così  dicendo,  agguantò  con  tutt'  e  due  le \n",
      "mani  quel  povero  pezzo  di  legno,  e  si  pose  a \n",
      "sbatacchiarlo  senza  carità  contro  le  pareti  della \n",
      "stanza. \n",
      "Poi  si  messe  in  ascolto,  per  sentire  se  c'era \n",
      "qualche  vocina  che  si  lamentasse.  Aspettò  due \n",
      "minuti,  e  nulla;  cinque  minuti,  e  nulla;  dieci  mi- \n",
      "nuti, e  nulla! \n",
      "— -  Ho  capito  —  disse  allora  sforzandosi  di  ri- \n",
      "dere e  arruffandosi  la  parrucca — si  vede  che  quella \n",
      "vocina  che  ha  detto  olii,  me  la  son  figurata  io! \n",
      "Eimettiamoci  a  lavorare.  — \n",
      "E  perchè  gli  era  entrato  addosso  una  gran \n",
      "\n",
      "\n",
      "paura,  si  provò  a  canterellare  per  farsi  un  po'  di \n",
      "coraggio. \n",
      "Intanto,  i^osata  da  una  parte  l'ascia,  prese  in \n",
      "mano  la  pialla,  per  piallare  e  tirare  a  pulimento \n",
      "il  pezzo  di  legno  ;  ma  nel  mentre  che  lo  piallava \n",
      "in  su  e  in  giù,  sentì  la  solita  vocina  che  gli  disse \n",
      "ridendo  : \n",
      "—  Smetti!  tu  mi  fai  il  pizzicorino  sul  corpo!  — \n",
      "Questa  volta  il  povero  maestro  Ciliegia  cadde \n",
      "giù  come  fulminato.  Quando  riaprì  gli  occhi,  si \n",
      "trovò  seduto  per  terra. \n",
      "Il  suo  viso  pareva  trasfigurito,  e  perfino  la  punta \n",
      "del  naso,  di  paonazza  come  era  quasi  sempre,  gli \n",
      "era  diventata  turchina  dalla  gran  x>ai^i'?^' \n",
      "\n",
      "pyyyyy^y^'^wggfy; \n",
      "\n",
      "ti;;::;i;r<666>(:,,\n",
      "\n",
      "\n",
      "Così,  il  maestro  Ciliegia  \n",
      "                                                                                                                                                                                                                                                                                                                                                                                                                                                                                                           \n"
     ]
    }
   ],
   "source": [
    "response = minervaPipeline(questionText, max_new_tokens=512)\n",
    "print(response[0]['generated_text'])"
   ]
  },
  {
   "cell_type": "code",
   "execution_count": 22,
   "id": "dcb5f6e4",
   "metadata": {},
   "outputs": [
    {
     "name": "stdout",
     "output_type": "stream",
     "text": [
      "I.\n",
      "\n",
      "Come andò che Maestro Ciliegia, falegname\n",
      "trovò un pezzo di legno che piangeva e rideva come un bambino.\n",
      "\n",
      "— C’era una volta....\n",
      "— Un re! — diranno subito i miei piccoli lettori.\n",
      "— No, ragazzi, avete sbagliato. C’era una volta un pezzo di legno.\n",
      "Non era un legno di lusso, ma un semplice pezzo da catasta, di quelli che d’inverno si mettono nelle stufe e nei caminetti per accendere il fuoco e per riscaldare le stanze.\n",
      "Non so come andasse, ma il fatto gli è che un bel giorno questo pezzo di legno capitò nella bottega di un vecchio falegname, il quale aveva nome mastr’Antonio, se non che tutti lo chiamavano maestro Ciliegia, per via della punta del <img description>.... sentì una vocina sottile sottile. suo naso, che era sempre lustra e paonazza, come una ciliegia matura.\n",
      "Appena maestro Ciliegia ebbe visto quel pezzo di legno, si rallegrò tutto; e dandosi una fregatina di mani per la contentezza, borbottò a mezza voce:\n",
      "— Questo legno è capitato a tempo; voglio servirmene per fare una gamba di tavolino. —\n",
      "Detto fatto, prese subito l’ascia arrotata per cominciare a levargli la scorza e a digrossarlo; ma quando fu lì per lasciare andare la prima asciata, rimase col braccio sospeso in aria, perchè sentì una vocina sottile sottile, che disse raccomandandosi:\n",
      "— Non mi picchiar tanto forte! —\n",
      "Figuratevi come rimase quel buon vecchio di maestro Ciliegia!\n",
      "Girò gli occhi smarriti intorno alla stanza per vedere di dove mai poteva essere uscita quella vocina, e non vide nessuno! Guardò sotto il banco, e nessuno: guardò dentro un armadio che stava sempre chiuso, e nessuno; guardò nel corbello dei trucioli e della segatura, e nessuno; aprì l’uscio di bottega per dare un’occhiata anche sulla strada, e nessuno. O dunque?...\n",
      "— Ho capito; — disse allora ridendo e grattandosi la parrucca — si vede che quella vocina me la son figurata io. Rimettiamoci a lavorare. —\n",
      "E ripresa l’ascia in mano, tirò giù un solennissimo colpo sul pezzo di legno.\n",
      "— Ohi! tu m’hai fatto male! — gridò rammaricandosi la solita vocina.\n",
      "Questa volta maestro Ciliegia restò di stucco, cogli occhi fuori del capo per la paura, colla bocca\n",
      "spalancata e colla lingua giù ciondoloni fino al mento, come un mascherone da fontana.\n",
      "Appena riebbe l’uso della parola, cominciò a dire tremando e balbettando dallo spavento:\n",
      "— Ma di dove sarà uscita questa vocina che ha detto ohi?... Eppure qui non c’è anima viva. Che sia per caso questo pezzo di legno che abbia imparato a piangere e a lamentarsi come un bambino? Io non lo posso credere. Questo legno eccolo qui; è un pezzo di legno da caminetto, come tutti gli altri, e a buttarlo sul fuoco, c’è da far bollire una pentola di fagioli.... O dunque? Che ci sia nascosto dentro qualcuno! Se c’è nascosto qualcuno, tanto peggio per lui. Ora l’accomodo io! —\n",
      "E così dicendo, agguantò con tutt’e due le mani quel povero pezzo di legno, e si pose a sbatacchiarlo senza carità contro le pareti della stanza.\n",
      "Poi si messe in ascolto, per sentire se c’era qualche vocina che si lamentasse. Aspettò due minuti, e nulla; cinque minuti, e nulla; dieci minuti, e nulla!\n",
      "— Ho capito — disse allora sforzandosi di ridere e arruffandosi la parrucca — si vede che quella vocina che ha detto ohi, me la son figurata io! Rimettiamoci a lavorare. —\n",
      "E perchè gli era entrato addosso una gran\n",
      "paura, si provò a canterellare per farsi un po’ di coraggio.\n",
      "Intanto, posata da una parte l’ascia, prese in mano la pialla, per piallare e tirare a pulimento il pezzo di legno; ma nel mentre che lo piallava in su e in giù, sentì la solita vocina che gli disse ridendo:\n",
      "— Smetti! tu mi fai il pizzicorino sul corpo! —\n",
      "Questa volta il povero maestro Ciliegia cadde giù come fulminato. Quando riaprì gli occhi, si trovò seduto per terra.\n",
      "Il suo viso pareva trasfigurito, e perfino la punta del naso, di paonazza come era quasi sempre, gli era diventata turchina dalla gran paura.\n"
     ]
    }
   ],
   "source": [
    "print(datasetRaw['cleaned']['1'])"
   ]
  }
 ],
 "metadata": {
  "kernelspec": {
   "display_name": "Python 3",
   "language": "python",
   "name": "python3"
  },
  "language_info": {
   "codemirror_mode": {
    "name": "ipython",
    "version": 3
   },
   "file_extension": ".py",
   "mimetype": "text/x-python",
   "name": "python",
   "nbconvert_exporter": "python",
   "pygments_lexer": "ipython3",
   "version": "3.12.6"
  }
 },
 "nbformat": 4,
 "nbformat_minor": 5
}
