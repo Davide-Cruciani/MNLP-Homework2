{
 "cells": [
  {
   "cell_type": "code",
   "execution_count": 17,
   "id": "dabd59ed",
   "metadata": {},
   "outputs": [],
   "source": [
    "# pip install google-generativeai\n",
    "# pip install rouge\n",
    "\n",
    "import google.generativeai as genai\n",
    "import json\n",
    "import os\n",
    "\n",
    "from dotenv import load_dotenv\n",
    "from rouge import Rouge"
   ]
  },
  {
   "cell_type": "code",
   "execution_count": 12,
   "id": "31e8a9fc",
   "metadata": {},
   "outputs": [],
   "source": [
    "load_dotenv()\n",
    "genai.configure(api_key=os.environ['GEMINI_KEY'])\n",
    "directory_path = os.environ['DATA_PATH']\n",
    "\n",
    "cleaned_fn = \"cleaned.json\"\n",
    "ocred_fn = \"original_ocr.json\"\n",
    "\n",
    "datasetRaw = {}\n",
    "\n",
    "for file_name in [ocred_fn, cleaned_fn]:\n",
    "    if file_name not in os.listdir(directory_path):\n",
    "        print(f\"ERROR 404 ! File {file_name} not Found...\")\n",
    "\n",
    "    file_path = os.path.join(directory_path, file_name)\n",
    "    with open(file_path, 'r') as file:\n",
    "        datasetRaw[file_name.split('.')[0]] = json.load(file)\n",
    "        file.close()\n"
   ]
  },
  {
   "cell_type": "code",
   "execution_count": 36,
   "id": "6592157f",
   "metadata": {},
   "outputs": [],
   "source": [
    "def segment_wrapper(segment_ocred, segment_clean):\n",
    "    return f\"\"\"\n",
    "        ### Task: Il primo testo è una versione del secondo estratto con oc-Red, ed è stata processata per ridurre gli errori, valuta con un punteggio tra 1 e 5 la somglianza tra le due.\n",
    "        ### Testo da valutare: {segment_ocred}.\n",
    "        ### Testo di confronto: {segment_clean}.\n",
    "        ### Risultato:\n",
    "    \"\"\""
   ]
  },
  {
   "cell_type": "code",
   "execution_count": 28,
   "id": "5d44dea6",
   "metadata": {},
   "outputs": [],
   "source": [
    "sample_in = datasetRaw['original_ocr']['1']\n",
    "sample_out = datasetRaw['cleaned']['1']"
   ]
  },
  {
   "cell_type": "code",
   "execution_count": 37,
   "id": "3fe8e350",
   "metadata": {},
   "outputs": [],
   "source": [
    "\n",
    "prompt = segment_wrapper(sample_in, sample_out)"
   ]
  },
  {
   "cell_type": "code",
   "execution_count": 38,
   "id": "f5c9199b",
   "metadata": {},
   "outputs": [
    {
     "name": "stdout",
     "output_type": "stream",
     "text": [
      "Il testo da valutare presenta numerose differenze rispetto al testo di confronto,  principalmente dovute a errori ortografici, di punteggiatura e di trascrizione nel testo I.  Ci sono anche alcune piccole differenze nella formulazione di alcune frasi.  Considerando la presenza di questi errori e le modifiche necessarie per allineare il testo I al testo di confronto, assegno un punteggio di **3**.\n",
      "\n",
      "Mentre la trama e la sequenza degli eventi sono le stesse, la qualità della scrittura e l'accuratezza linguistica del testo I sono inferiori, richiedendo una significativa revisione per raggiungere la parità con il testo di confronto.\n",
      "\n"
     ]
    }
   ],
   "source": [
    "model = genai.GenerativeModel(model_name=\"gemini-1.5-flash\")\n",
    "hypothesis = model.generate_content(prompt).text\n",
    "print(hypothesis)"
   ]
  },
  {
   "cell_type": "code",
   "execution_count": null,
   "id": "ad551b55",
   "metadata": {},
   "outputs": [],
   "source": [
    "scorer = Rouge()\n",
    "score = scorer.get_scores(hyps=sample_in, refs=sample_out)"
   ]
  },
  {
   "cell_type": "code",
   "execution_count": null,
   "id": "94ba024e",
   "metadata": {},
   "outputs": [
    {
     "name": "stdout",
     "output_type": "stream",
     "text": [
      "{'r': 0.8852459016393442, 'p': 0.8223350253807107, 'f': 0.8526315739541551}\n",
      "{'r': 0.8287112561174551, 'p': 0.7925117004680188, 'f': 0.8102073315256189}\n",
      "{'r': 0.8852459016393442, 'p': 0.8223350253807107, 'f': 0.8526315739541551}\n"
     ]
    }
   ],
   "source": [
    "metrics_list = ['rouge-1', 'rouge-2', 'rouge-l']\n",
    "for metric in metrics_list:\n",
    "    print(metric,\" -> \",score[0][metric])"
   ]
  }
 ],
 "metadata": {
  "kernelspec": {
   "display_name": "Python 3",
   "language": "python",
   "name": "python3"
  },
  "language_info": {
   "codemirror_mode": {
    "name": "ipython",
    "version": 3
   },
   "file_extension": ".py",
   "mimetype": "text/x-python",
   "name": "python",
   "nbconvert_exporter": "python",
   "pygments_lexer": "ipython3",
   "version": "3.12.6"
  }
 },
 "nbformat": 4,
 "nbformat_minor": 5
}
