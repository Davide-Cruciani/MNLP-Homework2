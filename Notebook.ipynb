{
 "cells": [
  {
   "cell_type": "markdown",
   "metadata": {},
   "source": [
    "# MNLP Homework 2 - OCRed text cleaning"
   ]
  },
  {
   "cell_type": "code",
   "execution_count": 1,
   "metadata": {},
   "outputs": [],
   "source": [
    "import os\n",
    "import sys\n",
    "import json\n",
    "import numpy as np\n",
    "import pandas as pd\n",
    "import matplotlib.pyplot as plt\n",
    "\n",
    "# import torch\n",
    "# import datasets\n",
    "# import huggingface_hub"
   ]
  },
  {
   "cell_type": "code",
   "execution_count": 6,
   "metadata": {},
   "outputs": [],
   "source": [
    "path = r\"C:\\Users\\FEDERICO\\Desktop\\MNLP-Homework2\\data\\ita\"\n",
    "cleaned_fn = r\"cleaned.json\"\n",
    "ocred_fn = r\"original_ocr.json\"\n",
    "\n",
    "cleaned_path = os.path.join(path, cleaned_fn)\n",
    "ocred_path = os.path.join(path, ocred_fn)"
   ]
  },
  {
   "cell_type": "code",
   "execution_count": 7,
   "metadata": {},
   "outputs": [],
   "source": [
    "dset = {}\n",
    "\n",
    "for i in [ocred_fn, cleaned_fn]:\n",
    "    if i not in os.listdir(path):\n",
    "        print(f\"ERROR 404 ! File {i} not Found...\")\n",
    "\n",
    "    file_path = os.path.join(path, i)\n",
    "    with open(file_path, 'r') as f:\n",
    "        dset[i.split('.')[0]] = json.load(f)\n",
    "        f.close()"
   ]
  },
  {
   "cell_type": "code",
   "execution_count": 9,
   "metadata": {},
   "outputs": [
    {
     "name": "stdout",
     "output_type": "stream",
     "text": [
      "dict_keys(['7', '34', '23', '17', '16', '9', '2', '26', '27', '13', '15', '1', '10', '24', '18', '20', '29', '21', '11', '30', '32', '25', '3', '22', '4', '36', '5', '6', '14', '28', '12', '35', '31', '33', '8', '19'])\n"
     ]
    }
   ],
   "source": [
    "print(dset['original_ocr'].keys())"
   ]
  },
  {
   "cell_type": "code",
   "execution_count": 11,
   "metadata": {},
   "outputs": [
    {
     "name": "stdout",
     "output_type": "stream",
     "text": [
      "I. \n",
      "Como  andò  che  Maestro  Ciliegia,  Megnamc \n",
      "trovò  un  pezzo  di  legno  che  piangeva  e  rideva  come  un  bambino. \n",
      "—  C'era  una  volta.... \n",
      "—  Un  re!  -diranno  subito  i  miei  piccoli  lettori. \n",
      "—  Ko,  ragazzi,  avete  sbagliato.  C'era  una  volta \n",
      "un  pezzo  di  legno. \n",
      "Kon  era  un  legno  di  lusso,  ma  un  semplice \n",
      "pezzo  da  catasta,  di  quelli  che  d' inverno  si  met- \n",
      "tono nelle  stufe  e  nei  caminetti  per  accendere \n",
      "il  fuoco  e  per  riscaldare  le  stanze. \n",
      "\n",
      "Non  so  come  andasse,  ma  il  fatto  gli  è  che  un \n",
      "bel  giorno' questo  pezzo  di  legno  capitò  nella  bot- \n",
      "tega di  un  vecchio  falegname,  il  quale  aveva \n",
      "nome  mastr' Antonio,  se  non  che  tutti  lo  chia- \n",
      "mavano maestro  Ciliegia,  per  via  della  punta  del \n",
      "\n",
      "sentì  nna  vocina  sottile  sottile. \n",
      "\n",
      "SUO  naso,  che  era  sempre  lustra  e  paonazza,  come \n",
      "una  ciliegia  matura. \n",
      "Appena  maestro  Ciliegia  ebbe  visto  quel  pezzo \n",
      "di  legno,  si  rallegrò  tutto;  e  dandosi  una  fregatina \n",
      "di  mani  per  la  contentezza,  borbottò  a  mezza  voce: \n",
      "—  Questo  legno  è  capitato  a  tempo;  voglio \n",
      "servirmene  per  fare  una  gamba  di  tavolino.  — \n",
      "\n",
      "Detto  fatto,  prese  subito  l'ascia  arrotata  per \n",
      "cominciare  a  levargli  la  scorza  e  a  digrossarlo; \n",
      "ma  quando  fu  lì  per  lasciare  andare  la  prima \n",
      "asciata,  rimase  col  braccio  sospeso  in  aria,  per- \n",
      "chè sentì  una  vocina  sottile  sottile,  che  disse \n",
      "raccomandandosi: \n",
      "—  Non  mi  picchiar  tanto  forte!  — \n",
      "Figuratevi  come  rimase  quel  buon  vecchio  di \n",
      "maestro  Ciliegia! \n",
      "Girò  gli  occhi  smarriti  intorno  alla  stanza  per \n",
      "vedere  di  dove  mai  poteva  essere  uscita  quella  vo- \n",
      "cina, e  non  vide  nessuno  !  Guardò  sotto  il  banco, \n",
      "e  nessuno  :  guardò  dentro  un  armadio  che  stava \n",
      "sempre  chiuso,  e  nessuno;  guardò  nel  corbèllo \n",
      "dei  trucioli  e  della  segatura,  e  nessuno;  aprì  l'uscio \n",
      "di  bottega  per  dare  un'occhiata  anche  sulla  strada, \n",
      "e  nessuno.  O  dunque?... \n",
      "—  Ho  capito;  —  disse  allora  ridendo  e  gTat- \n",
      "tandosi  la  parrucca  —  si  vede  che  quella  vocina \n",
      "me  la  son  figurata  io.  Eimettiamoci  a  lavo- \n",
      "rare. — \n",
      "E  ripresa  l' ascia  in  mano,  tirò  giù  un  solennis- \n",
      "simo  colpo  sul  pezzo  di  legno. \n",
      "—  Ohi!  tu  m'hai  fatto  male!  —  gridò  ramma- \n",
      "ricandosi la  solita  vocina. \n",
      "Questa  volta  maestro  Ciliegia  restò  di  stucco, \n",
      "cogli  occhi  fuori  del  capo  per  la  paura,  colla  bocca \n",
      "\n",
      "spalancati  e  colla  lingna  giù  ciondoloni  fino  al \n",
      "mento,  come  nn  mascherone  da  fontana. \n",
      "Appena  riebbe  l'uso  della  parola,  cominciò  a \n",
      "dire  tremando  e  balbettando  dallo  spavento: \n",
      "—  Ma  di  dove  sarà  uscita  questa  vocina  che \n",
      "ha  detto  ohi  ?...  Eppure  qui  non  e'  è  anima  viva. \n",
      "Ohe  sia  per  caso  questo  pezzo  di  legno  che  abbia \n",
      "imparato  a  piangere  e  a  lamentarsi  come  un  bam- \n",
      "bino? Io  non  lo  posso  credere.  Questo  legno  eccolo \n",
      "qui;  è  un  pezzo  di  legno  da  caminetto,  come  tutti \n",
      "gli  altri,  e  a  buttarlo  sul  fuoco,  c'è  da  far  bollire \n",
      "una  pentola  di  fagioli....  O  dunque?  Ohe  ci  sia  na- \n",
      "scosto dentro  qualcuno!  Se  c'è  nascosto  qualcuno, \n",
      "tanto  peggio  per  lui.  Ora  l'accomodo  io!  — \n",
      "E  così  dicendo,  agguantò  con  tutt'  e  due  le \n",
      "mani  quel  povero  pezzo  di  legno,  e  si  pose  a \n",
      "sbatacchiarlo  senza  carità  contro  le  pareti  della \n",
      "stanza. \n",
      "Poi  si  messe  in  ascolto,  per  sentire  se  c'era \n",
      "qualche  vocina  che  si  lamentasse.  Aspettò  due \n",
      "minuti,  e  nulla;  cinque  minuti,  e  nulla;  dieci  mi- \n",
      "nuti, e  nulla! \n",
      "— -  Ho  capito  —  disse  allora  sforzandosi  di  ri- \n",
      "dere e  arruffandosi  la  parrucca — si  vede  che  quella \n",
      "vocina  che  ha  detto  olii,  me  la  son  figurata  io! \n",
      "Eimettiamoci  a  lavorare.  — \n",
      "E  perchè  gli  era  entrato  addosso  una  gran \n",
      "\n",
      "\n",
      "paura,  si  provò  a  canterellare  per  farsi  un  po'  di \n",
      "coraggio. \n",
      "Intanto,  i^osata  da  una  parte  l'ascia,  prese  in \n",
      "mano  la  pialla,  per  piallare  e  tirare  a  pulimento \n",
      "il  pezzo  di  legno  ;  ma  nel  mentre  che  lo  piallava \n",
      "in  su  e  in  giù,  sentì  la  solita  vocina  che  gli  disse \n",
      "ridendo  : \n",
      "—  Smetti!  tu  mi  fai  il  pizzicorino  sul  corpo!  — \n",
      "Questa  volta  il  povero  maestro  Ciliegia  cadde \n",
      "giù  come  fulminato.  Quando  riaprì  gli  occhi,  si \n",
      "trovò  seduto  per  terra. \n",
      "Il  suo  viso  pareva  trasfigurito,  e  perfino  la  punta \n",
      "del  naso,  di  paonazza  come  era  quasi  sempre,  gli \n",
      "era  diventata  turchina  dalla  gran  x>ai^i'?^' \n",
      "\n",
      "pyyyyy^y^'^wggfy; \n",
      "\n",
      "ti;;::;i;r\n"
     ]
    }
   ],
   "source": [
    "print(dset['original_ocr']['1'])"
   ]
  },
  {
   "cell_type": "code",
   "execution_count": 13,
   "metadata": {},
   "outputs": [
    {
     "name": "stdout",
     "output_type": "stream",
     "text": [
      "I.\n",
      "\n",
      "Come andò che Maestro Ciliegia, falegname\n",
      "trovò un pezzo di legno che piangeva e rideva come un bambino.\n",
      "\n",
      "— C’era una volta....\n",
      "— Un re! — diranno subito i miei piccoli lettori.\n",
      "— No, ragazzi, avete sbagliato. C’era una volta un pezzo di legno.\n",
      "Non era un legno di lusso, ma un semplice pezzo da catasta, di quelli che d’inverno si mettono nelle stufe e nei caminetti per accendere il fuoco e per riscaldare le stanze.\n",
      "Non so come andasse, ma il fatto gli è che un bel giorno questo pezzo di legno capitò nella bottega di un vecchio falegname, il quale aveva nome mastr’Antonio, se non che tutti lo chiamavano maestro Ciliegia, per via della punta del <img description>.... sentì una vocina sottile sottile. suo naso, che era sempre lustra e paonazza, come una ciliegia matura.\n",
      "Appena maestro Ciliegia ebbe visto quel pezzo di legno, si rallegrò tutto; e dandosi una fregatina di mani per la contentezza, borbottò a mezza voce:\n",
      "— Questo legno è capitato a tempo; voglio servirmene per fare una gamba di tavolino. —\n",
      "Detto fatto, prese subito l’ascia arrotata per cominciare a levargli la scorza e a digrossarlo; ma quando fu lì per lasciare andare la prima asciata, rimase col braccio sospeso in aria, perchè sentì una vocina sottile sottile, che disse raccomandandosi:\n",
      "— Non mi picchiar tanto forte! —\n",
      "Figuratevi come rimase quel buon vecchio di maestro Ciliegia!\n",
      "Girò gli occhi smarriti intorno alla stanza per vedere di dove mai poteva essere uscita quella vocina, e non vide nessuno! Guardò sotto il banco, e nessuno: guardò dentro un armadio che stava sempre chiuso, e nessuno; guardò nel corbello dei trucioli e della segatura, e nessuno; aprì l’uscio di bottega per dare un’occhiata anche sulla strada, e nessuno. O dunque?...\n",
      "— Ho capito; — disse allora ridendo e grattandosi la parrucca — si vede che quella vocina me la son figurata io. Rimettiamoci a lavorare. —\n",
      "E ripresa l’ascia in mano, tirò giù un solennissimo colpo sul pezzo di legno.\n",
      "— Ohi! tu m’hai fatto male! — gridò rammaricandosi la solita vocina.\n",
      "Questa volta maestro Ciliegia restò di stucco, cogli occhi fuori del capo per la paura, colla bocca\n",
      "spalancata e colla lingua giù ciondoloni fino al mento, come un mascherone da fontana.\n",
      "Appena riebbe l’uso della parola, cominciò a dire tremando e balbettando dallo spavento:\n",
      "— Ma di dove sarà uscita questa vocina che ha detto ohi?... Eppure qui non c’è anima viva. Che sia per caso questo pezzo di legno che abbia imparato a piangere e a lamentarsi come un bambino? Io non lo posso credere. Questo legno eccolo qui; è un pezzo di legno da caminetto, come tutti gli altri, e a buttarlo sul fuoco, c’è da far bollire una pentola di fagioli.... O dunque? Che ci sia nascosto dentro qualcuno! Se c’è nascosto qualcuno, tanto peggio per lui. Ora l’accomodo io! —\n",
      "E così dicendo, agguantò con tutt’e due le mani quel povero pezzo di legno, e si pose a sbatacchiarlo senza carità contro le pareti della stanza.\n",
      "Poi si messe in ascolto, per sentire se c’era qualche vocina che si lamentasse. Aspettò due minuti, e nulla; cinque minuti, e nulla; dieci minuti, e nulla!\n",
      "— Ho capito — disse allora sforzandosi di ridere e arruffandosi la parrucca — si vede che quella vocina che ha detto ohi, me la son figurata io! Rimettiamoci a lavorare. —\n",
      "E perchè gli era entrato addosso una gran\n",
      "paura, si provò a canterellare per farsi un po’ di coraggio.\n",
      "Intanto, posata da una parte l’ascia, prese in mano la pialla, per piallare e tirare a pulimento il pezzo di legno; ma nel mentre che lo piallava in su e in giù, sentì la solita vocina che gli disse ridendo:\n",
      "— Smetti! tu mi fai il pizzicorino sul corpo! —\n",
      "Questa volta il povero maestro Ciliegia cadde giù come fulminato. Quando riaprì gli occhi, si trovò seduto per terra.\n",
      "Il suo viso pareva trasfigurito, e perfino la punta del naso, di paonazza come era quasi sempre, gli era diventata turchina dalla gran paura.\n"
     ]
    }
   ],
   "source": [
    "print(dset['cleaned']['1'])"
   ]
  }
 ],
 "metadata": {
  "kernelspec": {
   "display_name": "Python 3 (ipykernel)",
   "language": "python",
   "name": "python3"
  },
  "language_info": {
   "codemirror_mode": {
    "name": "ipython",
    "version": 3
   },
   "file_extension": ".py",
   "mimetype": "text/x-python",
   "name": "python",
   "nbconvert_exporter": "python",
   "pygments_lexer": "ipython3",
   "version": "3.10.9"
  }
 },
 "nbformat": 4,
 "nbformat_minor": 2
}
